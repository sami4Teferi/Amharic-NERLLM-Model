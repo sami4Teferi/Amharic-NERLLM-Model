{
 "cells": [
  {
   "cell_type": "code",
   "execution_count": null,
   "id": "c792e41e",
   "metadata": {},
   "outputs": [],
   "source": [
    "# import necessarry libraries \n",
    "import numpy as np\n",
    "import pandas as pd\n",
    "import matplotlib.pyplot as plt\n",
    "import seaborn as sns\n",
    "\n",
    "import os \n",
    "import sys \n"
   ]
  },
  {
   "cell_type": "code",
   "execution_count": null,
   "id": "e7a5a1be",
   "metadata": {},
   "outputs": [],
   "source": [
    "sys.path.append(os.path.abspath(os.path.join('..')))\n",
    "# importing modules from scripts\n",
    "import scripts.labeling as l\n"
   ]
  },
  {
   "cell_type": "code",
   "execution_count": null,
   "id": "9f67674f",
   "metadata": {},
   "outputs": [],
   "source": [
    "df = pd.read_csv('../data/cleaned_data.csv')\n",
    "df"
   ]
  },
  {
   "cell_type": "code",
   "execution_count": null,
   "id": "542db2bc",
   "metadata": {},
   "outputs": [],
   "source": [
    "df.drop(columns='Unnamed: 0')"
   ]
  },
  {
   "cell_type": "code",
   "execution_count": null,
   "id": "13f6a339",
   "metadata": {},
   "outputs": [],
   "source": [
    "df = df.dropna(subset=['Message'])\n",
    "message_cleaned = df['Message'].isnull().sum()\n",
    "print(f\"Numer of NAN values in Message columns is {message_cleaned}\")"
   ]
  },
  {
   "cell_type": "code",
   "execution_count": null,
   "id": "d2105bf7",
   "metadata": {},
   "outputs": [],
   "source": [
    "# Apply the updated function to the non-null messages\n",
    "df['Labeled_Message'] = df['Message'].apply(l.label_message_utf8_with_birr)\n",
    "\n",
    "# Display the updated DataFrame\n",
    "df.head()"
   ]
  },
  {
   "cell_type": "code",
   "execution_count": null,
   "id": "d8267920",
   "metadata": {},
   "outputs": [],
   "source": [
    "# Save the updated labeled dataset to a file in CoNLL format\n",
    "labeled_data_birr_path = '../data/labeled_telegram_product_price_location.txt-'\n",
    "with open(labeled_data_birr_path, 'w', encoding='utf-8') as f:\n",
    "    for index, row in df.iterrows():\n",
    "        f.write(f\"{row['Labeled_Message']}\\n\\n\")"
   ]
  }
 ],
 "metadata": {
  "language_info": {
   "name": "python"
  }
 },
 "nbformat": 4,
 "nbformat_minor": 5
}
