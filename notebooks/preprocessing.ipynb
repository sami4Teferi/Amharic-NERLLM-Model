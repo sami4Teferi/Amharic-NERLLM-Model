{
 "cells": [
  {
   "cell_type": "code",
   "execution_count": null,
   "id": "d87f1023",
   "metadata": {},
   "outputs": [],
   "source": [
    "import numpy as np\n",
    "import pandas as pd\n",
    "import matplotlib.pyplot as plt\n",
    "import seaborn as sns\n",
    "import os \n",
    "import sys \n"
   ]
  },
  {
   "cell_type": "code",
   "execution_count": null,
   "id": "d5905d17",
   "metadata": {},
   "outputs": [],
   "source": [
    "sys.path.append(os.path.abspath(os.path.join('..')))\n",
    "import scripts.preprocessing as p\n",
    "df = pd.read_csv('../data/telegram_data.csv')\n",
    "df1 = pd.read_csv('../data/Leyueqa_telegram_data.csv')\n",
    "df2 = pd.read_csv('../data/meneshayeofficial_telegram_data.csv')\n",
    "df3 = pd.read_csv('../data/nevacomputer_telegram_data.csv')\n",
    "df4 = pd.read_csv('../data/ZemenExpress_telegram_data.csv')"
   ]
  },
  {
   "cell_type": "code",
   "execution_count": null,
   "id": "75f8001e",
   "metadata": {},
   "outputs": [],
   "source": [
    "df.head()"
   ]
  },
  {
   "cell_type": "code",
   "execution_count": null,
   "id": "31c4956a",
   "metadata": {},
   "outputs": [],
   "source": [
    "print(df.columns)"
   ]
  },
  {
   "cell_type": "code",
   "execution_count": null,
   "id": "8e64eb35",
   "metadata": {},
   "outputs": [],
   "source": [
    "df.dtypesnan_counts = p.check_missing_values(df)\n",
    "print(f\"Numer of nan values in the df is {nan_counts}\")"
   ]
  },
  {
   "cell_type": "code",
   "execution_count": null,
   "id": "1dbe2257",
   "metadata": {},
   "outputs": [],
   "source": [
    "p.caculate_missing_percentage(df)"
   ]
  },
  {
   "cell_type": "code",
   "execution_count": null,
   "id": "58981b8e",
   "metadata": {},
   "outputs": [],
   "source": [
    "print(f\"Numer of duplicate rows: {df.duplicated().sum()}\")"
   ]
  },
  {
   "cell_type": "code",
   "execution_count": null,
   "id": "9883f7f2",
   "metadata": {},
   "outputs": [],
   "source": [
    "df = df.dropna(subset=['Message'])"
   ]
  },
  {
   "cell_type": "code",
   "execution_count": null,
   "id": "c2050294",
   "metadata": {},
   "outputs": [],
   "source": [
    "message_cleaned = df['Message'].isnull().sum()\n",
    "print(f\"Numer of NAN values in Message columns is {message_cleaned}\")"
   ]
  },
  {
   "cell_type": "code",
   "execution_count": null,
   "id": "055878bf",
   "metadata": {},
   "outputs": [],
   "source": [
    "print(f\"Data shape after droping the null values in the message column is {df.shape}\")"
   ]
  },
  {
   "cell_type": "code",
   "execution_count": null,
   "id": "69f980f6",
   "metadata": {},
   "outputs": [],
   "source": [
    "# Apply remove emoji function to the message column\n",
    "df['Message'] = df['Message'].apply(p.remove_emojis).apply(p.remove_english_words)\n",
    "\n",
    "# Display the cleaned dataframe \n",
    "print(df.head())"
   ]
  },
  {
   "cell_type": "code",
   "execution_count": null,
   "id": "798cb00c",
   "metadata": {},
   "outputs": [],
   "source": [
    "# save the updated data to csv file \n",
    "df.to_csv('../data/cleaned_data.csv')"
   ]
  },
  {
   "cell_type": "code",
   "execution_count": null,
   "id": "eab20766",
   "metadata": {},
   "outputs": [],
   "source": [
    "\n",
    "df"
   ]
  },
  {
   "cell_type": "code",
   "execution_count": null,
   "id": "340323e5",
   "metadata": {},
   "outputs": [],
   "source": [
    "df['Message'].head()"
   ]
  }
 ],
 "metadata": {
  "kernelspec": {
   "display_name": "week-4",
   "language": "python",
   "name": "python3"
  },
  "language_info": {
   "name": "python",
   "version": "3.11.9"
  }
 },
 "nbformat": 4,
 "nbformat_minor": 5
}
